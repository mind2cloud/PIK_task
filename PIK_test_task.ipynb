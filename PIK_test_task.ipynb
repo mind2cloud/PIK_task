{
  "nbformat": 4,
  "nbformat_minor": 0,
  "metadata": {
    "colab": {
      "name": "PIK_test_task.ipynb",
      "provenance": []
    },
    "kernelspec": {
      "name": "python3",
      "display_name": "Python 3"
    },
    "language_info": {
      "name": "python"
    }
  },
  "cells": [
    {
      "cell_type": "code",
      "metadata": {
        "id": "cj6uiHXNFg4O",
        "colab": {
          "base_uri": "https://localhost:8080/",
          "height": 204
        },
        "outputId": "43897bee-55e6-4b90-bbcb-9dabf55030e7"
      },
      "source": [
        "import matplotlib.pyplot as plt\n",
        "import pandas as pd\n",
        "import numpy as np\n",
        "import seaborn as sns\n",
        "\n",
        "# загрузим данные\n",
        "df = pd.read_csv('278houses.csv')\n",
        "# оставим для удобства только необходимые для заданий 1-3 столбцы\n",
        "df = df[['price', 'area', 'latitude', 'longitude']]\n",
        "# уберем разделитель ',' у цены аренды\n",
        "df['price'] = df['price'].str.replace(',','')\n",
        "# у домов с 279 по 299 отсутствуют данные по широте и долготе (а также большинство других признаков), \n",
        "# поэтому уберем эти строки из датасета\n",
        "df = df.dropna()\n",
        "df.head()"
      ],
      "execution_count": 82,
      "outputs": [
        {
          "output_type": "execute_result",
          "data": {
            "text/html": [
              "<div>\n",
              "<style scoped>\n",
              "    .dataframe tbody tr th:only-of-type {\n",
              "        vertical-align: middle;\n",
              "    }\n",
              "\n",
              "    .dataframe tbody tr th {\n",
              "        vertical-align: top;\n",
              "    }\n",
              "\n",
              "    .dataframe thead th {\n",
              "        text-align: right;\n",
              "    }\n",
              "</style>\n",
              "<table border=\"1\" class=\"dataframe\">\n",
              "  <thead>\n",
              "    <tr style=\"text-align: right;\">\n",
              "      <th></th>\n",
              "      <th>price</th>\n",
              "      <th>area</th>\n",
              "      <th>latitude</th>\n",
              "      <th>longitude</th>\n",
              "    </tr>\n",
              "  </thead>\n",
              "  <tbody>\n",
              "    <tr>\n",
              "      <th>0</th>\n",
              "      <td>1650</td>\n",
              "      <td>85</td>\n",
              "      <td>37.085788</td>\n",
              "      <td>-8.315769</td>\n",
              "    </tr>\n",
              "    <tr>\n",
              "      <th>1</th>\n",
              "      <td>885</td>\n",
              "      <td>107</td>\n",
              "      <td>37.123355</td>\n",
              "      <td>-8.548333</td>\n",
              "    </tr>\n",
              "    <tr>\n",
              "      <th>2</th>\n",
              "      <td>2250</td>\n",
              "      <td>450</td>\n",
              "      <td>37.095037</td>\n",
              "      <td>-8.167158</td>\n",
              "    </tr>\n",
              "    <tr>\n",
              "      <th>3</th>\n",
              "      <td>1200</td>\n",
              "      <td>204</td>\n",
              "      <td>37.077888</td>\n",
              "      <td>-8.115559</td>\n",
              "    </tr>\n",
              "    <tr>\n",
              "      <th>4</th>\n",
              "      <td>600</td>\n",
              "      <td>70</td>\n",
              "      <td>37.021266</td>\n",
              "      <td>-7.936947</td>\n",
              "    </tr>\n",
              "  </tbody>\n",
              "</table>\n",
              "</div>"
            ],
            "text/plain": [
              "  price  area   latitude  longitude\n",
              "0  1650    85  37.085788  -8.315769\n",
              "1   885   107  37.123355  -8.548333\n",
              "2  2250   450  37.095037  -8.167158\n",
              "3  1200   204  37.077888  -8.115559\n",
              "4   600    70  37.021266  -7.936947"
            ]
          },
          "metadata": {
            "tags": []
          },
          "execution_count": 82
        }
      ]
    },
    {
      "cell_type": "markdown",
      "metadata": {
        "id": "itDsQ0WDE0BQ"
      },
      "source": [
        "##Задача 1.\n",
        "Построить распределение объектов по цене аренды (поле $price$). Вывести на заголовок графика: медианное\n",
        "значение, 25 и 75 квантили"
      ]
    },
    {
      "cell_type": "code",
      "metadata": {
        "id": "t_DeLLsNFDqk"
      },
      "source": [
        "# def stat_count(data):\n",
        "#   median = np.median(data)\n",
        "#   p_25 = np.percentile(data, 25, axis=0)\n",
        "#   p_75 = np.percentile(data, 75, axis=0)\n",
        "#   return median, p_25, p_75"
      ],
      "execution_count": 83,
      "outputs": []
    },
    {
      "cell_type": "code",
      "metadata": {
        "colab": {
          "base_uri": "https://localhost:8080/",
          "height": 529
        },
        "id": "k1FE_AM6Ckrx",
        "outputId": "db23d92c-c756-420f-8cf4-fd9ddd0e0100"
      },
      "source": [
        "# extract feature with price\n",
        "price = df['price'].astype(float)\n",
        "p_25, median, p_75 = price.quantile([.25, .5, .75])\n",
        "\n",
        "sns.displot(price, color='#37ad5f', height=7, kde=True)\n",
        "plt.grid()\n",
        "plt.xlabel('Price')\n",
        "plt.title('Price distribution, median = ' + str(median) + ', quantile_25 = ' + \n",
        "          str(p_25) + ', quantile_75 = ' + str(p_75))\n",
        "plt.show()"
      ],
      "execution_count": 84,
      "outputs": [
        {
          "output_type": "display_data",
          "data": {
            "image/png": "[encoded data removed]",
            "text/plain": [
              "<Figure size 504x504 with 1 Axes>"
            ]
          },
          "metadata": {
            "tags": [],
            "needs_background": "light"
          }
        }
      ]
    },
    {
      "cell_type": "code",
      "metadata": {
        "colab": {
          "base_uri": "https://localhost:8080/",
          "height": 204
        },
        "id": "RoioyV-RLkN2",
        "outputId": "6e4c800c-c1c7-4077-e6fa-923eda6e39d9"
      },
      "source": [
        "# создадим новый набор данных, в котором значения price лежат в диапазоне [p_25; p_75]\n",
        "cond_1 = df[\"price\"].astype(float) >= p_25\n",
        "cond_2 = df[\"price\"].astype(float) <= p_75\n",
        "\n",
        "new_df = df.loc[cond_1 & cond_2]\n",
        "new_df.head()"
      ],
      "execution_count": 85,
      "outputs": [
        {
          "output_type": "execute_result",
          "data": {
            "text/html": [
              "<div>\n",
              "<style scoped>\n",
              "    .dataframe tbody tr th:only-of-type {\n",
              "        vertical-align: middle;\n",
              "    }\n",
              "\n",
              "    .dataframe tbody tr th {\n",
              "        vertical-align: top;\n",
              "    }\n",
              "\n",
              "    .dataframe thead th {\n",
              "        text-align: right;\n",
              "    }\n",
              "</style>\n",
              "<table border=\"1\" class=\"dataframe\">\n",
              "  <thead>\n",
              "    <tr style=\"text-align: right;\">\n",
              "      <th></th>\n",
              "      <th>price</th>\n",
              "      <th>area</th>\n",
              "      <th>latitude</th>\n",
              "      <th>longitude</th>\n",
              "    </tr>\n",
              "  </thead>\n",
              "  <tbody>\n",
              "    <tr>\n",
              "      <th>1</th>\n",
              "      <td>885</td>\n",
              "      <td>107</td>\n",
              "      <td>37.123355</td>\n",
              "      <td>-8.548333</td>\n",
              "    </tr>\n",
              "    <tr>\n",
              "      <th>3</th>\n",
              "      <td>1200</td>\n",
              "      <td>204</td>\n",
              "      <td>37.077888</td>\n",
              "      <td>-8.115559</td>\n",
              "    </tr>\n",
              "    <tr>\n",
              "      <th>7</th>\n",
              "      <td>1000</td>\n",
              "      <td>150</td>\n",
              "      <td>37.044726</td>\n",
              "      <td>-7.833612</td>\n",
              "    </tr>\n",
              "    <tr>\n",
              "      <th>12</th>\n",
              "      <td>850</td>\n",
              "      <td>95</td>\n",
              "      <td>37.129398</td>\n",
              "      <td>-8.591779</td>\n",
              "    </tr>\n",
              "    <tr>\n",
              "      <th>13</th>\n",
              "      <td>900</td>\n",
              "      <td>87</td>\n",
              "      <td>37.122186</td>\n",
              "      <td>-7.652593</td>\n",
              "    </tr>\n",
              "  </tbody>\n",
              "</table>\n",
              "</div>"
            ],
            "text/plain": [
              "   price  area   latitude  longitude\n",
              "1    885   107  37.123355  -8.548333\n",
              "3   1200   204  37.077888  -8.115559\n",
              "7   1000   150  37.044726  -7.833612\n",
              "12   850    95  37.129398  -8.591779\n",
              "13   900    87  37.122186  -7.652593"
            ]
          },
          "metadata": {
            "tags": []
          },
          "execution_count": 85
        }
      ]
    },
    {
      "cell_type": "markdown",
      "metadata": {
        "id": "_nOU45wRFM6t"
      },
      "source": [
        "##Задача 2.\n",
        "Для объектов, у которых значение цены лежит между 25 и 75 квантилем *(см задача 1)*, построить\n",
        "распределение площади. Вывести на заголовок графика: медианное значение, 25 и 75 квантили\n"
      ]
    },
    {
      "cell_type": "code",
      "metadata": {
        "id": "zvV6Ok0gFNsI",
        "colab": {
          "base_uri": "https://localhost:8080/",
          "height": 601
        },
        "outputId": "3b6b2397-74dc-4812-9904-2a99020c6a11"
      },
      "source": [
        "# extract feature with area\n",
        "area = new_df['area']\n",
        "p_25, median, p_75 = area.quantile([.25, .5, .75])\n",
        "\n",
        "sns.displot(area, color='#ffeea8', height=8)\n",
        "plt.grid()\n",
        "plt.xlabel('Area')\n",
        "plt.title('Area distribution, median = ' + str(median) + ', quantile_25 = ' \n",
        "          + str(p_25) + ', quantile_75 = ' + str(p_75))\n",
        "plt.show()"
      ],
      "execution_count": 86,
      "outputs": [
        {
          "output_type": "display_data",
          "data": {
            "image/png": "[encoded data removed]",
            "text/plain": [
              "<Figure size 576x576 with 1 Axes>"
            ]
          },
          "metadata": {
            "tags": [],
            "needs_background": "light"
          }
        }
      ]
    },
    {
      "cell_type": "markdown",
      "metadata": {
        "id": "2SHTAYgPFIcS"
      },
      "source": [
        "##Задача 3.\n",
        "Для объектов у которых значение цены лежит между 25 и 75 квантилем *(см задача 1)* найти количество\n",
        "объектов в радиусе 1 км.\n",
        "Построить распределение этого количества."
      ]
    },
    {
      "cell_type": "code",
      "metadata": {
        "id": "4nM9NP_hFLHT"
      },
      "source": [
        "import geopy.distance\n",
        "\n",
        "count = np.zeros(len(new_df['price']))\n",
        "\n",
        "for i, house in enumerate(new_df['price']):\n",
        "  for j, house in enumerate(new_df['price']):\n",
        "    if ((geopy.distance.vincenty((new_df['latitude'].iloc[i], new_df['longitude'].iloc[i]),\n",
        "                                 (new_df['latitude'].iloc[j], new_df['longitude'].iloc[j])).km) <= 1.0\n",
        "    and (i!=j)):\n",
        "      count[i] += 1\n",
        "\n",
        "new_df['number_in_km'] = count"
      ],
      "execution_count": null,
      "outputs": []
    },
    {
      "cell_type": "code",
      "metadata": {
        "colab": {
          "base_uri": "https://localhost:8080/",
          "height": 204
        },
        "id": "kYkOBePatXue",
        "outputId": "4d250afb-89d8-4279-8981-f847adc5bfdd"
      },
      "source": [
        "new_df.head()"
      ],
      "execution_count": 88,
      "outputs": [
        {
          "output_type": "execute_result",
          "data": {
            "text/html": [
              "<div>\n",
              "<style scoped>\n",
              "    .dataframe tbody tr th:only-of-type {\n",
              "        vertical-align: middle;\n",
              "    }\n",
              "\n",
              "    .dataframe tbody tr th {\n",
              "        vertical-align: top;\n",
              "    }\n",
              "\n",
              "    .dataframe thead th {\n",
              "        text-align: right;\n",
              "    }\n",
              "</style>\n",
              "<table border=\"1\" class=\"dataframe\">\n",
              "  <thead>\n",
              "    <tr style=\"text-align: right;\">\n",
              "      <th></th>\n",
              "      <th>price</th>\n",
              "      <th>area</th>\n",
              "      <th>latitude</th>\n",
              "      <th>longitude</th>\n",
              "      <th>number_in_km</th>\n",
              "    </tr>\n",
              "  </thead>\n",
              "  <tbody>\n",
              "    <tr>\n",
              "      <th>1</th>\n",
              "      <td>885</td>\n",
              "      <td>107</td>\n",
              "      <td>37.123355</td>\n",
              "      <td>-8.548333</td>\n",
              "      <td>3.0</td>\n",
              "    </tr>\n",
              "    <tr>\n",
              "      <th>3</th>\n",
              "      <td>1200</td>\n",
              "      <td>204</td>\n",
              "      <td>37.077888</td>\n",
              "      <td>-8.115559</td>\n",
              "      <td>6.0</td>\n",
              "    </tr>\n",
              "    <tr>\n",
              "      <th>7</th>\n",
              "      <td>1000</td>\n",
              "      <td>150</td>\n",
              "      <td>37.044726</td>\n",
              "      <td>-7.833612</td>\n",
              "      <td>0.0</td>\n",
              "    </tr>\n",
              "    <tr>\n",
              "      <th>12</th>\n",
              "      <td>850</td>\n",
              "      <td>95</td>\n",
              "      <td>37.129398</td>\n",
              "      <td>-8.591779</td>\n",
              "      <td>0.0</td>\n",
              "    </tr>\n",
              "    <tr>\n",
              "      <th>13</th>\n",
              "      <td>900</td>\n",
              "      <td>87</td>\n",
              "      <td>37.122186</td>\n",
              "      <td>-7.652593</td>\n",
              "      <td>7.0</td>\n",
              "    </tr>\n",
              "  </tbody>\n",
              "</table>\n",
              "</div>"
            ],
            "text/plain": [
              "   price  area   latitude  longitude  number_in_km\n",
              "1    885   107  37.123355  -8.548333           3.0\n",
              "3   1200   204  37.077888  -8.115559           6.0\n",
              "7   1000   150  37.044726  -7.833612           0.0\n",
              "12   850    95  37.129398  -8.591779           0.0\n",
              "13   900    87  37.122186  -7.652593           7.0"
            ]
          },
          "metadata": {
            "tags": []
          },
          "execution_count": 88
        }
      ]
    },
    {
      "cell_type": "code",
      "metadata": {
        "colab": {
          "base_uri": "https://localhost:8080/",
          "height": 528
        },
        "id": "3POwzP4o_NHr",
        "outputId": "9ddb5d7f-7c27-4056-b9c5-a1b1fa18634c"
      },
      "source": [
        "count = new_df['number_in_km']\n",
        "sns.displot(count, height=7)\n",
        "plt.title('Houses in 1 kilometer distribution')\n",
        "plt.xlabel('Number of houses in 1 km')\n",
        "plt.grid()\n",
        "plt.show()"
      ],
      "execution_count": 89,
      "outputs": [
        {
          "output_type": "display_data",
          "data": {
            "image/png": "[encoded data removed]",
            "text/plain": [
              "<Figure size 504x504 with 1 Axes>"
            ]
          },
          "metadata": {
            "tags": [],
            "needs_background": "light"
          }
        }
      ]
    }
  ]
}